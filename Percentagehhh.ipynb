{
 "cells": [
  {
   "cell_type": "code",
   "execution_count": 1,
   "id": "5b46c554",
   "metadata": {},
   "outputs": [
    {
     "name": "stdout",
     "output_type": "stream",
     "text": [
      "一切都是命运石之门的选择！\n"
     ]
    }
   ],
   "source": [
    "\"\"\"\n",
    "Created on Sun Mar  6 15:55:40 2022\n",
    "\n",
    "@author: 99259\n",
    "\"\"\"\n",
    "from sklearn.metrics import confusion_matrix\n",
    "import package_dataprocess.Nilm_classes\n",
    "import numpy as np\n",
    "import os\n",
    "import gc\n",
    "import pandas as pd\n",
    "from PIL import Image\n",
    "import PIL.ImageOps\n",
    "import matplotlib.pyplot as plt"
   ]
  },
  {
   "cell_type": "code",
   "execution_count": 2,
   "id": "83a88314",
   "metadata": {},
   "outputs": [],
   "source": [
    "fridge_data = np.zeros(100800)\n",
    "television_data = np.zeros(100800)\n",
    "kettle_data = np.zeros(100800)\n",
    "microwave_data = np.zeros(100800)\n",
    "washerdryer_data = np.zeros(100800)\n",
    "sum_data_num = np.zeros(100800)"
   ]
  },
  {
   "cell_type": "code",
   "execution_count": 3,
   "id": "137ce900",
   "metadata": {},
   "outputs": [],
   "source": [
    "#只要在这里改周数和每一周开始的unix时间戳即可\n",
    "week = 'week3'\n",
    "unixtime = 1453075200"
   ]
  },
  {
   "cell_type": "code",
   "execution_count": 4,
   "id": "748fadaf",
   "metadata": {},
   "outputs": [],
   "source": [
    "\n",
    "filenames = os.listdir(r'DATA\\\\UKData_by_hour\\\\'+week+'\\\\LowFreq')\n",
    "dp = package_dataprocess.Nilm_classes.Nilm_dataprocess(path_csv=\"DATA\\\\UKData_by_hour\\\\\"+week+\"\\\\vicurve_name.xlsx\",\n",
    "                                                       path_img=\"DATA\\\\UKData_by_hour\\\\\"+week+\"\\\\vicurve32x32\\\\\",\n",
    "                                                       dimension = 5)\n",
    "\n",
    "for time in range(7 * 24):\n",
    "    temp = np.zeros(100800)\n",
    "    for i in filenames:\n",
    "        if (i[:10] == str(unixtime + 3600 * time)):#换周的话记得换一下时间戳喔\n",
    "            name = i[11:-4]\n",
    "            name_data = np.load('DATA\\\\UKData_by_hour\\\\'+week+'\\\\LowFreq\\\\' + i)\n",
    "            name_data = np.array(name_data)\n",
    "            # print(name_data.shape)\n",
    "            if len(name_data) > 600:\n",
    "                name_data = name_data[:600]\n",
    "            elif len(name_data) < 600:\n",
    "                name_data = np.pad(name_data, (0, 600 - len(name_data)), 'constant', constant_values=(0, 0))\n",
    "            name_data = np.where(name_data > 3, name_data, 0)  # 底噪3w\n",
    "\n",
    "            if (name == 'Fridge freezer0'):\n",
    "                fridge_data[time * 600:(time + 1) * 600] = name_data\n",
    "            if (name == 'Television0'):\n",
    "                television_data[time * 600:(time + 1) * 600] = name_data\n",
    "            if (name == 'Kettle0'):\n",
    "                kettle_data[time * 600:(time + 1) * 600] = name_data\n",
    "            if (name == 'Microwave0'):\n",
    "                microwave_data[time * 600:(time + 1) * 600] = name_data\n",
    "            if (name == 'Washer dryer0'):\n",
    "                washerdryer_data[time * 600:(time + 1) * 600] = name_data\n",
    "\n",
    "            temp[time * 600:(time + 1) * 600] = name_data\n",
    "            sum_data_num = sum_data_num + temp\n",
    "\n",
    "fridge_data = fridge_data.reshape(fridge_data.shape[0], 1)\n",
    "television_data = television_data.reshape(television_data.shape[0], 1)\n",
    "kettle_data = kettle_data.reshape(kettle_data.shape[0], 1)\n",
    "microwave_data = microwave_data.reshape(microwave_data.shape[0], 1)\n",
    "washerdryer_data = washerdryer_data.reshape(washerdryer_data.shape[0], 1)"
   ]
  },
  {
   "cell_type": "code",
   "execution_count": 6,
   "id": "b4466cbe",
   "metadata": {},
   "outputs": [],
   "source": [
    "#创建标签\n",
    "fridge_labels = dp.create_label(fridge_data, 0, 15)#15表示有功功率阈值\n",
    "kettle_labels = dp.create_label(kettle_data, 1, 15)\n",
    "microwave_labels = dp.create_label(microwave_data, 2, 15)\n",
    "tv_labels = dp.create_label(television_data, 3, 15)\n",
    "washerdryer_labels = dp.create_label(washerdryer_data, 4, 15)\n",
    "\n",
    "sum_label = fridge_labels + tv_labels + kettle_labels + microwave_labels + washerdryer_labels\n",
    "#print(sum_label.shape)\n",
    "sumlabel = sum_label.T"
   ]
  },
  {
   "cell_type": "code",
   "execution_count": 7,
   "id": "90f2c00a",
   "metadata": {},
   "outputs": [
    {
     "name": "stdout",
     "output_type": "stream",
     "text": [
      "(100800, 1)\n"
     ]
    }
   ],
   "source": [
    "#sum_data标准化\n",
    "mean = sum_data_num[:100800].mean(axis=0)\n",
    "sum_data = sum_data_num - mean\n",
    "std = sum_data[:100800].std(axis=0)\n",
    "sum_data /= std\n",
    "#sum_data从list转化为numpy数组便于后续处理\n",
    "sum_data = np.array(sum_data)\n",
    "#print(sum_data.shape)\n",
    "#sum_data从list转化为numpy数组便于后续处理\n",
    "sum_data = sum_data.reshape(sum_data.shape[0], 1)\n",
    "print(sum_data.shape)"
   ]
  },
  {
   "cell_type": "code",
   "execution_count": 4,
   "id": "1cb5ef02",
   "metadata": {},
   "outputs": [],
   "source": [
    "#计数变量，统计标签为1的个数\n",
    "fridge = 0\n",
    "kettle = 0\n",
    "microwave = 0\n",
    "tv = 0\n",
    "washerdryer = 0\n",
    "for i in range(100800):\n",
    "    if(sumlabel[0][i]==1):\n",
    "        fridge+=1\n",
    "    if(sumlabel[1][i]==1):\n",
    "        kettle+=1\n",
    "    if(sumlabel[2][i]==1):\n",
    "        microwave+=1\n",
    "    if(sumlabel[3][i]==1):\n",
    "        tv+=1\n",
    "    if(sumlabel[4][i]==1):\n",
    "        washerdryer+=1"
   ]
  },
  {
   "cell_type": "code",
   "execution_count": 5,
   "id": "7176442d",
   "metadata": {},
   "outputs": [
    {
     "name": "stdout",
     "output_type": "stream",
     "text": [
      "0.36989087301587303\n",
      "0.00744047619047619\n",
      "0.010793650793650795\n",
      "0.15930555555555556\n",
      "0.027043650793650793\n"
     ]
    }
   ],
   "source": [
    "print(fridge/100800)\n",
    "print(kettle/100800)\n",
    "print(microwave/100800)\n",
    "print(tv/100800)\n",
    "print(washerdryer/100800)"
   ]
  }
 ],
 "metadata": {
  "kernelspec": {
   "display_name": "Python 3 (ipykernel)",
   "language": "python",
   "name": "python3"
  },
  "language_info": {
   "codemirror_mode": {
    "name": "ipython",
    "version": 3
   },
   "file_extension": ".py",
   "mimetype": "text/x-python",
   "name": "python",
   "nbconvert_exporter": "python",
   "pygments_lexer": "ipython3",
   "version": "3.8.8"
  }
 },
 "nbformat": 4,
 "nbformat_minor": 5
}
